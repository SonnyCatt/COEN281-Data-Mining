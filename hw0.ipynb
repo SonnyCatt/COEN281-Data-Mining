{
  "nbformat": 4,
  "nbformat_minor": 0,
  "metadata": {
    "colab": {
      "provenance": [],
      "collapsed_sections": [],
      "authorship_tag": "ABX9TyPb6uz7pNiZQ2w5YrBAw/IH",
      "include_colab_link": true
    },
    "kernelspec": {
      "name": "python3",
      "display_name": "Python 3"
    },
    "language_info": {
      "name": "python"
    }
  },
  "cells": [
    {
      "cell_type": "markdown",
      "metadata": {
        "id": "view-in-github",
        "colab_type": "text"
      },
      "source": [
        "<a href=\"https://colab.research.google.com/github/SonnyCatt/COEN281-Data-Mining/blob/main/hw0.ipynb\" target=\"_parent\"><img src=\"https://colab.research.google.com/assets/colab-badge.svg\" alt=\"Open In Colab\"/></a>"
      ]
    },
    {
      "cell_type": "markdown",
      "source": [
        "#Define A and y"
      ],
      "metadata": {
        "id": "wXMZaWJ6rMqr"
      }
    },
    {
      "cell_type": "code",
      "execution_count": null,
      "metadata": {
        "colab": {
          "base_uri": "https://localhost:8080/"
        },
        "id": "nnbgiaQDp7sY",
        "outputId": "c59404f5-1992-4d73-a669-efe9f27db58c"
      },
      "outputs": [
        {
          "output_type": "stream",
          "name": "stdout",
          "text": [
            "[[1 4]\n",
            " [2 3]]\n",
            "[[1]\n",
            " [3]]\n"
          ]
        }
      ],
      "source": [
        "import numpy as np\n",
        "\n",
        "A = np.matrix('1 4;2 3')\n",
        "y = np.matrix('1;3')\n",
        "print(A)\n",
        "print(y)"
      ]
    },
    {
      "cell_type": "markdown",
      "source": [
        "#Compute 𝑨𝑦 and 𝑦𝑨 "
      ],
      "metadata": {
        "id": "4xmKA7kq9ML_"
      }
    },
    {
      "cell_type": "code",
      "source": [
        "multi_res1 = np.dot(A, y)\n",
        "print(multi_res1)"
      ],
      "metadata": {
        "colab": {
          "base_uri": "https://localhost:8080/"
        },
        "id": "Ke6Mx3Mr-DnX",
        "outputId": "b7a1b804-a5db-4010-8dd9-96a1464e683c"
      },
      "execution_count": null,
      "outputs": [
        {
          "output_type": "stream",
          "name": "stdout",
          "text": [
            "[[13]\n",
            " [11]]\n"
          ]
        }
      ]
    },
    {
      "cell_type": "markdown",
      "source": [
        "#What is a rank of a matrix? What is the rank of 𝑨?"
      ],
      "metadata": {
        "id": "kWDwjgro-A9X"
      }
    },
    {
      "cell_type": "markdown",
      "source": [],
      "metadata": {
        "id": "O9bL9w7bXyfj"
      }
    },
    {
      "cell_type": "code",
      "source": [
        "from numpy.linalg import matrix_rank\n",
        "rank = matrix_rank(A)\n",
        "print(rank)"
      ],
      "metadata": {
        "colab": {
          "base_uri": "https://localhost:8080/"
        },
        "id": "tY-EsmHZ-FHt",
        "outputId": "95a8f5b2-ff9b-465f-a33f-7879ad9e553f"
      },
      "execution_count": null,
      "outputs": [
        {
          "output_type": "stream",
          "name": "stdout",
          "text": [
            "2\n"
          ]
        }
      ]
    },
    {
      "cell_type": "markdown",
      "source": [
        "#Manually compute the inverse of 𝑨, that is, 𝑨−𝟏. Compute 𝑨𝑨−𝟏 to check your answer. \n"
      ],
      "metadata": {
        "id": "NijrSTsJXr8b"
      }
    },
    {
      "cell_type": "code",
      "source": [
        "print (np.linalg.inv(A))"
      ],
      "metadata": {
        "colab": {
          "base_uri": "https://localhost:8080/"
        },
        "id": "Eu7hmQOJXzB0",
        "outputId": "3450aee3-d795-47ea-f48d-a7cef43d58c1"
      },
      "execution_count": null,
      "outputs": [
        {
          "output_type": "stream",
          "name": "stdout",
          "text": [
            "[[-0.6  0.8]\n",
            " [ 0.4 -0.2]]\n"
          ]
        }
      ]
    },
    {
      "cell_type": "markdown",
      "source": [
        "#Manually compute the eigenvectors and eigenvalues of 𝑨#"
      ],
      "metadata": {
        "id": "e7uHVfsCZKmo"
      }
    },
    {
      "cell_type": "code",
      "source": [
        "b, c = np.linalg.eig(A)\n",
        "print(b)\n",
        "print(c)"
      ],
      "metadata": {
        "colab": {
          "base_uri": "https://localhost:8080/"
        },
        "id": "z8ZpMJmNZJd_",
        "outputId": "bb14d935-2ad9-46c6-a6e8-77d7de7b1e09"
      },
      "execution_count": null,
      "outputs": [
        {
          "output_type": "stream",
          "name": "stdout",
          "text": [
            "[-1.  5.]\n",
            "[[-0.89442719 -0.70710678]\n",
            " [ 0.4472136  -0.70710678]]\n"
          ]
        }
      ]
    },
    {
      "cell_type": "markdown",
      "source": [
        "#Compute the projection of vector 𝑎  on to vector 𝑏 "
      ],
      "metadata": {
        "id": "uraPn2HzbD1a"
      }
    },
    {
      "cell_type": "code",
      "source": [
        "# import numpy to perform operations on vector\n",
        "import numpy as np\n",
        "  \n",
        "a = np.array([1, 2])  \n",
        "b = np.array([2, 1])   \n",
        "  \n",
        "# Task: Project vector u on vector v\n",
        "  \n",
        "# finding norm of the vector v\n",
        "b_norm = np.sqrt(sum(b**2))    \n",
        "  \n",
        "# Apply the formula as mentioned above\n",
        "# for projecting a vector onto another vector\n",
        "# find dot product using np.dot()\n",
        "proj = (np.dot(a, b)/b_norm**2)*b\n",
        "\n",
        "print(proj)"
      ],
      "metadata": {
        "colab": {
          "base_uri": "https://localhost:8080/"
        },
        "id": "9tYKTJwDbJH5",
        "outputId": "81289385-1751-4500-85e3-df0cd6e624f6"
      },
      "execution_count": null,
      "outputs": [
        {
          "output_type": "stream",
          "name": "stdout",
          "text": [
            "[1.6 0.8]\n"
          ]
        }
      ]
    }
  ]
}